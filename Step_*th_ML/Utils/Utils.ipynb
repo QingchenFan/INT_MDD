{
 "cells": [
  {
   "cell_type": "code",
   "execution_count": 1,
   "metadata": {
    "collapsed": true,
    "ExecuteTime": {
     "end_time": "2025-02-19T07:55:40.856453Z",
     "start_time": "2025-02-19T07:55:40.230523Z"
    }
   },
   "outputs": [],
   "source": [
    "import glob\n",
    "import os.path\n",
    "\n",
    "import pandas as pd\n",
    "import numpy as np\n",
    "from scipy.io import savemat"
   ]
  },
  {
   "cell_type": "markdown",
   "source": [
    "两表合并"
   ],
   "metadata": {
    "collapsed": false
   }
  },
  {
   "cell_type": "code",
   "execution_count": 6,
   "outputs": [],
   "source": [
    "import numpy as np\n",
    "file_2 = '/Volumes/QC/INT/INT_BN246_HC135BP_allMDD/Results/HAMD/BP_HAMD_0w52w.csv'\n",
    "file_1 = '/Volumes/QC/INT/INT_BN246_HC135BP_allMDD/Results/INTvalue_MDD.csv'\n",
    "\n",
    "\n",
    "#Read the CSV files into DataFrames\n",
    "df1 = pd.read_csv(file_1)\n",
    "df2 = pd.read_csv(file_2)\n",
    "\n",
    "df_new = pd.merge(df2, df1, on='subID', how='inner')\n",
    "df_new.to_csv('/Volumes/QC/INT/INT_BN246_HC135BP_allMDD/Results/HAMD/MDD_IND_HAMD0w52w.csv', index=False)"
   ],
   "metadata": {
    "collapsed": false,
    "ExecuteTime": {
     "end_time": "2025-02-19T08:37:09.121465Z",
     "start_time": "2025-02-19T08:37:09.068508Z"
    }
   }
  }
 ],
 "metadata": {
  "kernelspec": {
   "display_name": "Python 3",
   "language": "python",
   "name": "python3"
  },
  "language_info": {
   "codemirror_mode": {
    "name": "ipython",
    "version": 2
   },
   "file_extension": ".py",
   "mimetype": "text/x-python",
   "name": "python",
   "nbconvert_exporter": "python",
   "pygments_lexer": "ipython2",
   "version": "2.7.6"
  }
 },
 "nbformat": 4,
 "nbformat_minor": 0
}
